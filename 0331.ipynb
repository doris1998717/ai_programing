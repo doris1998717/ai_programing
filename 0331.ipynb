{
 "cells": [
  {
   "cell_type": "code",
   "execution_count": 2,
   "metadata": {},
   "outputs": [
    {
     "ename": "ModuleNotFoundError",
     "evalue": "No module named 'tensorflow'",
     "output_type": "error",
     "traceback": [
      "\u001b[1;31m---------------------------------------------------------------------------\u001b[0m",
      "\u001b[1;31mModuleNotFoundError\u001b[0m                       Traceback (most recent call last)",
      "\u001b[1;32m<ipython-input-2-6e9883acd11d>\u001b[0m in \u001b[0;36m<module>\u001b[1;34m\u001b[0m\n\u001b[0;32m      3\u001b[0m \u001b[1;32mimport\u001b[0m \u001b[0mnumpy\u001b[0m \u001b[1;32mas\u001b[0m \u001b[0mnp\u001b[0m\u001b[1;33m\u001b[0m\u001b[1;33m\u001b[0m\u001b[0m\n\u001b[0;32m      4\u001b[0m \u001b[1;32mimport\u001b[0m \u001b[0mmatplotlib\u001b[0m\u001b[1;33m.\u001b[0m\u001b[0mpyplot\u001b[0m \u001b[1;32mas\u001b[0m \u001b[0mplt\u001b[0m\u001b[1;33m\u001b[0m\u001b[1;33m\u001b[0m\u001b[0m\n\u001b[1;32m----> 5\u001b[1;33m \u001b[1;32mimport\u001b[0m \u001b[0mtensorflow\u001b[0m \u001b[1;32mas\u001b[0m \u001b[0mtf\u001b[0m\u001b[1;33m\u001b[0m\u001b[1;33m\u001b[0m\u001b[0m\n\u001b[0m",
      "\u001b[1;31mModuleNotFoundError\u001b[0m: No module named 'tensorflow'"
     ]
    }
   ],
   "source": [
    "%matplotlib inline\n",
    "\n",
    "import numpy as np\n",
    "import matplotlib.pyplot as plt"
   ]
  },
  {
   "cell_type": "code",
   "execution_count": null,
   "metadata": {},
   "outputs": [],
   "source": []
  },
  {
   "cell_type": "code",
   "execution_count": 4,
   "metadata": {},
   "outputs": [],
   "source": [
    "import tensorflow as tf"
   ]
  },
  {
   "cell_type": "code",
   "execution_count": 5,
   "metadata": {},
   "outputs": [],
   "source": [
    "from tensorflow.keras.datasets import fashion_mnist"
   ]
  },
  {
   "cell_type": "code",
   "execution_count": 6,
   "metadata": {},
   "outputs": [
    {
     "name": "stdout",
     "output_type": "stream",
     "text": [
      "Downloading data from https://storage.googleapis.com/tensorflow/tf-keras-datasets/train-labels-idx1-ubyte.gz\n",
      "32768/29515 [=================================] - 0s 10us/step\n",
      "Downloading data from https://storage.googleapis.com/tensorflow/tf-keras-datasets/train-images-idx3-ubyte.gz\n",
      "26427392/26421880 [==============================] - 7s 0us/step\n",
      "Downloading data from https://storage.googleapis.com/tensorflow/tf-keras-datasets/t10k-labels-idx1-ubyte.gz\n",
      "8192/5148 [===============================================] - 0s 0us/step\n",
      "Downloading data from https://storage.googleapis.com/tensorflow/tf-keras-datasets/t10k-images-idx3-ubyte.gz\n",
      "4423680/4422102 [==============================] - 1s 0us/step\n"
     ]
    }
   ],
   "source": [
    "(x_train, y_train), (x_test, y_test) = fashion_mnist.load_data()"
   ]
  },
  {
   "cell_type": "code",
   "execution_count": 7,
   "metadata": {},
   "outputs": [
    {
     "data": {
      "text/plain": [
       "60000"
      ]
     },
     "execution_count": 7,
     "metadata": {},
     "output_type": "execute_result"
    }
   ],
   "source": [
    "len(x_train)"
   ]
  },
  {
   "cell_type": "code",
   "execution_count": 8,
   "metadata": {},
   "outputs": [
    {
     "data": {
      "text/plain": [
       "10000"
      ]
     },
     "execution_count": 8,
     "metadata": {},
     "output_type": "execute_result"
    }
   ],
   "source": [
    "len(x_test)"
   ]
  },
  {
   "cell_type": "code",
   "execution_count": 11,
   "metadata": {},
   "outputs": [
    {
     "data": {
      "text/plain": [
       "5"
      ]
     },
     "execution_count": 11,
     "metadata": {},
     "output_type": "execute_result"
    }
   ],
   "source": [
    "n = 1111\n",
    "y_train[n]"
   ]
  },
  {
   "cell_type": "code",
   "execution_count": 12,
   "metadata": {},
   "outputs": [],
   "source": [
    "class_names = ['T-shirt/top', 'Trouser', 'Pullover', 'Dress', 'Coat',\n",
    "               'Sandal', 'Shirt', 'Sneaker', 'Bag', 'Ankle boot']"
   ]
  },
  {
   "cell_type": "code",
   "execution_count": 13,
   "metadata": {},
   "outputs": [
    {
     "name": "stdout",
     "output_type": "stream",
     "text": [
      "這是 Sandal\n"
     ]
    },
    {
     "data": {
      "text/plain": [
       "<matplotlib.image.AxesImage at 0x212e1940448>"
      ]
     },
     "execution_count": 13,
     "metadata": {},
     "output_type": "execute_result"
    },
    {
     "data": {
      "image/png": "[encoded data removed]",
      "text/plain": [
       "<Figure size 432x288 with 1 Axes>"
      ]
     },
     "metadata": {
      "needs_background": "light"
     },
     "output_type": "display_data"
    }
   ],
   "source": [
    "print('這是', class_names[y_train[n]])\n",
    "plt.imshow(x_train[n], cmap='Greys')"
   ]
  },
  {
   "cell_type": "code",
   "execution_count": 14,
   "metadata": {},
   "outputs": [],
   "source": [
    "##將資料整理，reshape\n",
    "x_train = x_train.reshape(60000, 784)/255\n",
    "x_test = x_test.reshape(10000, 784)/255"
   ]
  },
  {
   "cell_type": "code",
   "execution_count": 15,
   "metadata": {},
   "outputs": [],
   "source": [
    "from tensorflow.keras.utils import to_categorical"
   ]
  },
  {
   "cell_type": "code",
   "execution_count": 16,
   "metadata": {},
   "outputs": [
    {
     "data": {
      "text/plain": [
       "array([0., 0., 0., 0., 0., 1., 0., 0., 0., 0.], dtype=float32)"
      ]
     },
     "execution_count": 16,
     "metadata": {},
     "output_type": "execute_result"
    }
   ],
   "source": [
    "y_train = to_categorical(y_train, 10)\n",
    "y_test = to_categorical(y_test, 10)\n",
    "y_train[n]"
   ]
  },
  {
   "cell_type": "code",
   "execution_count": 17,
   "metadata": {},
   "outputs": [],
   "source": [
    "##打造神經網路\n",
    "from tensorflow.keras.models import Sequential\n",
    "from tensorflow.keras.layers import Dense\n",
    "from tensorflow.keras.optimizers import SGD"
   ]
  },
  {
   "cell_type": "code",
   "execution_count": 18,
   "metadata": {},
   "outputs": [],
   "source": [
    "model = Sequential()"
   ]
  },
  {
   "cell_type": "code",
   "execution_count": 19,
   "metadata": {},
   "outputs": [],
   "source": [
    "model.add(Dense(200, input_dim=784, activation='relu'))"
   ]
  },
  {
   "cell_type": "code",
   "execution_count": 20,
   "metadata": {},
   "outputs": [],
   "source": [
    "model.add(Dense(200, activation='relu'))"
   ]
  },
  {
   "cell_type": "code",
   "execution_count": 21,
   "metadata": {},
   "outputs": [],
   "source": [
    "model.add(Dense(100, activation='relu'))"
   ]
  },
  {
   "cell_type": "code",
   "execution_count": 22,
   "metadata": {},
   "outputs": [],
   "source": [
    "model.add(Dense(10, activation='softmax'))"
   ]
  },
  {
   "cell_type": "code",
   "execution_count": 23,
   "metadata": {},
   "outputs": [],
   "source": [
    "model.compile(loss='mse', optimizer=SGD(lr=0.01), metrics=['accuracy'])"
   ]
  },
  {
   "cell_type": "code",
   "execution_count": 24,
   "metadata": {},
   "outputs": [
    {
     "name": "stdout",
     "output_type": "stream",
     "text": [
      "Model: \"sequential\"\n",
      "_________________________________________________________________\n",
      "Layer (type)                 Output Shape              Param #   \n",
      "=================================================================\n",
      "dense (Dense)                (None, 200)               157000    \n",
      "_________________________________________________________________\n",
      "dense_1 (Dense)              (None, 200)               40200     \n",
      "_________________________________________________________________\n",
      "dense_2 (Dense)              (None, 100)               20100     \n",
      "_________________________________________________________________\n",
      "dense_3 (Dense)              (None, 10)                1010      \n",
      "=================================================================\n",
      "Total params: 218,310\n",
      "Trainable params: 218,310\n",
      "Non-trainable params: 0\n",
      "_________________________________________________________________\n"
     ]
    }
   ],
   "source": [
    "model.summary()"
   ]
  },
  {
   "cell_type": "code",
   "execution_count": 25,
   "metadata": {},
   "outputs": [
    {
     "name": "stdout",
     "output_type": "stream",
     "text": [
      "Train on 60000 samples\n",
      "Epoch 1/40\n",
      "60000/60000 [==============================] - 14s 232us/sample - loss: 0.0822 - accuracy: 0.4067\n",
      "Epoch 2/40\n",
      "60000/60000 [==============================] - 13s 222us/sample - loss: 0.0604 - accuracy: 0.6121\n",
      "Epoch 3/40\n",
      "60000/60000 [==============================] - 13s 213us/sample - loss: 0.0477 - accuracy: 0.6735\n",
      "Epoch 4/40\n",
      "60000/60000 [==============================] - 13s 214us/sample - loss: 0.0413 - accuracy: 0.7069\n",
      "Epoch 5/40\n",
      "60000/60000 [==============================] - 13s 212us/sample - loss: 0.0366 - accuracy: 0.7630\n",
      "Epoch 6/40\n",
      "60000/60000 [==============================] - 13s 210us/sample - loss: 0.0332 - accuracy: 0.7878\n",
      "Epoch 7/40\n",
      "60000/60000 [==============================] - 13s 211us/sample - loss: 0.0309 - accuracy: 0.8000\n",
      "Epoch 8/40\n",
      "60000/60000 [==============================] - 13s 211us/sample - loss: 0.0294 - accuracy: 0.8076\n",
      "Epoch 9/40\n",
      "60000/60000 [==============================] - 13s 212us/sample - loss: 0.0282 - accuracy: 0.8142\n",
      "Epoch 10/40\n",
      "60000/60000 [==============================] - 12s 207us/sample - loss: 0.0272 - accuracy: 0.8190\n",
      "Epoch 11/40\n",
      "60000/60000 [==============================] - 12s 207us/sample - loss: 0.0264 - accuracy: 0.8243\n",
      "Epoch 12/40\n",
      "60000/60000 [==============================] - 12s 207us/sample - loss: 0.0258 - accuracy: 0.8272\n",
      "Epoch 13/40\n",
      "60000/60000 [==============================] - 13s 209us/sample - loss: 0.0252 - accuracy: 0.8319\n",
      "Epoch 14/40\n",
      "60000/60000 [==============================] - 12s 208us/sample - loss: 0.0247 - accuracy: 0.8345\n",
      "Epoch 15/40\n",
      "60000/60000 [==============================] - 13s 210us/sample - loss: 0.0243 - accuracy: 0.8359\n",
      "Epoch 16/40\n",
      "60000/60000 [==============================] - 12s 207us/sample - loss: 0.0239 - accuracy: 0.8390\n",
      "Epoch 17/40\n",
      "60000/60000 [==============================] - 12s 207us/sample - loss: 0.0236 - accuracy: 0.8408\n",
      "Epoch 18/40\n",
      "60000/60000 [==============================] - 13s 210us/sample - loss: 0.0233 - accuracy: 0.8429\n",
      "Epoch 19/40\n",
      "60000/60000 [==============================] - 13s 209us/sample - loss: 0.0230 - accuracy: 0.8451\n",
      "Epoch 20/40\n",
      "60000/60000 [==============================] - 12s 208us/sample - loss: 0.0227 - accuracy: 0.8463\n",
      "Epoch 21/40\n",
      "60000/60000 [==============================] - 13s 209us/sample - loss: 0.0225 - accuracy: 0.8481\n",
      "Epoch 22/40\n",
      "60000/60000 [==============================] - 13s 209us/sample - loss: 0.0223 - accuracy: 0.8490\n",
      "Epoch 23/40\n",
      "60000/60000 [==============================] - 12s 208us/sample - loss: 0.0221 - accuracy: 0.8504\n",
      "Epoch 24/40\n",
      "60000/60000 [==============================] - 12s 206us/sample - loss: 0.0219 - accuracy: 0.8522\n",
      "Epoch 25/40\n",
      "60000/60000 [==============================] - 12s 207us/sample - loss: 0.0217 - accuracy: 0.8531\n",
      "Epoch 26/40\n",
      "60000/60000 [==============================] - 12s 206us/sample - loss: 0.0216 - accuracy: 0.8543\n",
      "Epoch 27/40\n",
      "60000/60000 [==============================] - 12s 207us/sample - loss: 0.0214 - accuracy: 0.8558\n",
      "Epoch 28/40\n",
      "60000/60000 [==============================] - 12s 204us/sample - loss: 0.0212 - accuracy: 0.8565\n",
      "Epoch 29/40\n",
      "60000/60000 [==============================] - 12s 205us/sample - loss: 0.0211 - accuracy: 0.8579\n",
      "Epoch 30/40\n",
      "60000/60000 [==============================] - 12s 204us/sample - loss: 0.0209 - accuracy: 0.8588\n",
      "Epoch 31/40\n",
      "60000/60000 [==============================] - 12s 201us/sample - loss: 0.0208 - accuracy: 0.8593\n",
      "Epoch 32/40\n",
      "60000/60000 [==============================] - 12s 204us/sample - loss: 0.0207 - accuracy: 0.8605\n",
      "Epoch 33/40\n",
      "60000/60000 [==============================] - 12s 197us/sample - loss: 0.0205 - accuracy: 0.8613\n",
      "Epoch 34/40\n",
      "60000/60000 [==============================] - 12s 199us/sample - loss: 0.0204 - accuracy: 0.8623\n",
      "Epoch 35/40\n",
      "60000/60000 [==============================] - 12s 196us/sample - loss: 0.0203 - accuracy: 0.8630\n",
      "Epoch 36/40\n",
      "60000/60000 [==============================] - 12s 203us/sample - loss: 0.0202 - accuracy: 0.8641\n",
      "Epoch 37/40\n",
      "60000/60000 [==============================] - 12s 205us/sample - loss: 0.0200 - accuracy: 0.8644\n",
      "Epoch 38/40\n",
      "60000/60000 [==============================] - 12s 204us/sample - loss: 0.0199 - accuracy: 0.8661\n",
      "Epoch 39/40\n",
      "60000/60000 [==============================] - 12s 204us/sample - loss: 0.0198 - accuracy: 0.8663\n",
      "Epoch 40/40\n",
      "60000/60000 [==============================] - 13s 212us/sample - loss: 0.0197 - accuracy: 0.8663\n"
     ]
    },
    {
     "data": {
      "text/plain": [
       "<tensorflow.python.keras.callbacks.History at 0x212e6099d08>"
      ]
     },
     "execution_count": 25,
     "metadata": {},
     "output_type": "execute_result"
    }
   ],
   "source": [
    "##訓練時間\n",
    "model.fit(x_train, y_train, batch_size=25, epochs=40)"
   ]
  },
  {
   "cell_type": "code",
   "execution_count": 26,
   "metadata": {},
   "outputs": [],
   "source": [
    "result = model.predict_classes(x_test)"
   ]
  },
  {
   "cell_type": "code",
   "execution_count": 28,
   "metadata": {},
   "outputs": [
    {
     "name": "stdout",
     "output_type": "stream",
     "text": [
      "神經網路預測是: Shirt\n"
     ]
    },
    {
     "data": {
      "text/plain": [
       "<matplotlib.image.AxesImage at 0x212e19b4f08>"
      ]
     },
     "execution_count": 28,
     "metadata": {},
     "output_type": "execute_result"
    },
    {
     "data": {
      "image/png": "[encoded data removed]",
      "text/plain": [
       "<Figure size 432x288 with 1 Axes>"
      ]
     },
     "metadata": {
      "needs_background": "light"
     },
     "output_type": "display_data"
    }
   ],
   "source": [
    "n = 7777\n",
    "print('神經網路預測是:', class_names[result[n]])\n",
    "plt.imshow(x_test[n].reshape(28,28), cmap='Greys')"
   ]
  },
  {
   "cell_type": "code",
   "execution_count": null,
   "metadata": {},
   "outputs": [],
   "source": []
  }
 ],
 "metadata": {
  "kernelspec": {
   "display_name": "Python 3",
   "language": "python",
   "name": "python3"
  },
  "language_info": {
   "codemirror_mode": {
    "name": "ipython",
    "version": 3
   },
   "file_extension": ".py",
   "mimetype": "text/x-python",
   "name": "python",
   "nbconvert_exporter": "python",
   "pygments_lexer": "ipython3",
   "version": "3.7.6"
  }
 },
 "nbformat": 4,
 "nbformat_minor": 2
}
