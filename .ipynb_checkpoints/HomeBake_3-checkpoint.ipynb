{
 "cells": [
  {
   "cell_type": "markdown",
   "metadata": {},
   "source": [
    "# HomeBake的小幫手(3)_105405132 宋靜 廣告四\n",
    "\n",
    "HomeBake是我最近在經營的甜點材料盒品牌!<br>但因為才剛開始，很多程序都還沒系統化<br>想利用上學期學到(現在快忘光)的pandas<br>一邊複習、一邊幫HomeBake製作便利的系統\n",
    "\n",
    "# 3.篩選資料\n",
    "現在我想加上詢問客人的取貨方式(有宅配和面交兩種)<br>\n",
    "並且想在資料統整的時候，<br>\n",
    "可以只過濾出填選宅配的訂單，方便配送!\n"
   ]
  },
  {
   "cell_type": "code",
   "execution_count": 2,
   "metadata": {},
   "outputs": [],
   "source": [
    "%matplotlib inline \n",
    "import numpy as np \n",
    "import matplotlib.pyplot as plt\n",
    "import pandas as pd"
   ]
  },
  {
   "cell_type": "code",
   "execution_count": 4,
   "metadata": {},
   "outputs": [
    {
     "name": "stdout",
     "output_type": "stream",
     "text": [
      "怎麼稱呼您?1\n",
      "您訂購的提拉米蘇數量為:1\n",
      "您訂購的檸檬塔數量為:1\n",
      "您訂購的oreo生乳酪蛋糕數量為:1\n",
      "您訂購的生巧克力數量為:1\n",
      "您希望宅配或是面交?(宅配請輸入0；面交請輸入1)0\n",
      "請輸入宅配地址:嗚嗚嗚\n",
      "謝謝您的訂購! 您的訂單總金額為：1360\n",
      "怎麼稱呼您?2\n",
      "您訂購的提拉米蘇數量為:2\n",
      "您訂購的檸檬塔數量為:2\n",
      "您訂購的oreo生乳酪蛋糕數量為:2\n",
      "您訂購的生巧克力數量為:2\n",
      "您希望宅配或是面交?(宅配請輸入0；面交請輸入1)1\n",
      "您希望的面交地址為?(台北車站:1、市政府站:2、公館站:3)1\n",
      "謝謝您的訂購! 您的訂單總金額為：2720\n",
      "怎麼稱呼您?3\n",
      "您訂購的提拉米蘇數量為:1\n",
      "您訂購的檸檬塔數量為:1\n",
      "您訂購的oreo生乳酪蛋糕數量為:1\n",
      "您訂購的生巧克力數量為:2\n",
      "您希望宅配或是面交?(宅配請輸入0；面交請輸入1)0\n",
      "請輸入宅配地址:fff\n",
      "謝謝您的訂購! 您的訂單總金額為：1710\n",
      "怎麼稱呼您?Q\n"
     ]
    },
    {
     "data": {
      "text/html": [
       "<div>\n",
       "<style scoped>\n",
       "    .dataframe tbody tr th:only-of-type {\n",
       "        vertical-align: middle;\n",
       "    }\n",
       "\n",
       "    .dataframe tbody tr th {\n",
       "        vertical-align: top;\n",
       "    }\n",
       "\n",
       "    .dataframe thead th {\n",
       "        text-align: right;\n",
       "    }\n",
       "</style>\n",
       "<table border=\"1\" class=\"dataframe\">\n",
       "  <thead>\n",
       "    <tr style=\"text-align: right;\">\n",
       "      <th></th>\n",
       "      <th>姓名</th>\n",
       "      <th>提拉米蘇</th>\n",
       "      <th>檸檬塔</th>\n",
       "      <th>oreo生乳酪</th>\n",
       "      <th>生巧克力</th>\n",
       "      <th>訂單總價</th>\n",
       "      <th>取貨方式</th>\n",
       "      <th>地點</th>\n",
       "    </tr>\n",
       "  </thead>\n",
       "  <tbody>\n",
       "    <tr>\n",
       "      <th>0</th>\n",
       "      <td>1</td>\n",
       "      <td>1</td>\n",
       "      <td>1</td>\n",
       "      <td>1</td>\n",
       "      <td>1</td>\n",
       "      <td>1360</td>\n",
       "      <td>0</td>\n",
       "      <td>嗚嗚嗚</td>\n",
       "    </tr>\n",
       "    <tr>\n",
       "      <th>1</th>\n",
       "      <td>2</td>\n",
       "      <td>2</td>\n",
       "      <td>2</td>\n",
       "      <td>2</td>\n",
       "      <td>2</td>\n",
       "      <td>2720</td>\n",
       "      <td>1</td>\n",
       "      <td>1</td>\n",
       "    </tr>\n",
       "    <tr>\n",
       "      <th>2</th>\n",
       "      <td>3</td>\n",
       "      <td>1</td>\n",
       "      <td>1</td>\n",
       "      <td>1</td>\n",
       "      <td>2</td>\n",
       "      <td>1710</td>\n",
       "      <td>0</td>\n",
       "      <td>fff</td>\n",
       "    </tr>\n",
       "  </tbody>\n",
       "</table>\n",
       "</div>"
      ],
      "text/plain": [
       "  姓名 提拉米蘇 檸檬塔 oreo生乳酪 生巧克力  訂單總價 取貨方式   地點\n",
       "0  1    1   1       1    1  1360    0  嗚嗚嗚\n",
       "1  2    2   2       2    2  2720    1    1\n",
       "2  3    1   1       1    2  1710    0  fff"
      ]
     },
     "execution_count": 4,
     "metadata": {},
     "output_type": "execute_result"
    }
   ],
   "source": [
    "df = pd.DataFrame(columns = [\"姓名\", \"提拉米蘇\", \"檸檬塔\", \"oreo生乳酪\", \"生巧克力\", \"訂單總價\", \"取貨方式\", \"地點\"])\n",
    "\n",
    "while True:\n",
    "    name = input(\"怎麼稱呼您?\")\n",
    "    if name == \"Q\":\n",
    "        break\n",
    "    tira = int(input(\"您訂購的提拉米蘇數量為:\"))\n",
    "    lemon = int(input(\"您訂購的檸檬塔數量為:\"))\n",
    "    oreo = int(input(\"您訂購的oreo生乳酪蛋糕數量為:\"))\n",
    "    choco = int(input(\"您訂購的生巧克力數量為:\"))\n",
    "    price = tira*440 + lemon*210 + oreo*360 +choco*350\n",
    "    pick = input(\"您希望宅配或是面交?(宅配請輸入0；面交請輸入1)\")\n",
    "    if pick == \"0\":\n",
    "        locat = input(\"請輸入宅配地址:\")\n",
    "    elif pick == \"1\":\n",
    "\n",
    "        locat = input(\"您希望的面交地址為?(台北車站:1、市政府站:2、公館站:3)\")\n",
    "\n",
    "    print(\"謝謝您的訂購! 您的訂單總金額為：\" + str(price))\n",
    "    data = {\"姓名\": name, \"提拉米蘇\": tira, \"檸檬塔\": lemon, \"oreo生乳酪\": oreo, \"生巧克力\": choco, \"訂單總價\": price, \"取貨方式\": pick, \"地點\": locat}\n",
    "    data = pd.Series(data)\n",
    "    df = df.append(data,ignore_index=True)\n",
    "    \n",
    "df"
   ]
  },
  {
   "cell_type": "code",
   "execution_count": 5,
   "metadata": {},
   "outputs": [
    {
     "data": {
      "text/html": [
       "<div>\n",
       "<style scoped>\n",
       "    .dataframe tbody tr th:only-of-type {\n",
       "        vertical-align: middle;\n",
       "    }\n",
       "\n",
       "    .dataframe tbody tr th {\n",
       "        vertical-align: top;\n",
       "    }\n",
       "\n",
       "    .dataframe thead th {\n",
       "        text-align: right;\n",
       "    }\n",
       "</style>\n",
       "<table border=\"1\" class=\"dataframe\">\n",
       "  <thead>\n",
       "    <tr style=\"text-align: right;\">\n",
       "      <th></th>\n",
       "      <th>姓名</th>\n",
       "      <th>提拉米蘇</th>\n",
       "      <th>檸檬塔</th>\n",
       "      <th>oreo生乳酪</th>\n",
       "      <th>生巧克力</th>\n",
       "      <th>訂單總價</th>\n",
       "      <th>取貨方式</th>\n",
       "      <th>地點</th>\n",
       "    </tr>\n",
       "  </thead>\n",
       "  <tbody>\n",
       "    <tr>\n",
       "      <th>0</th>\n",
       "      <td>1</td>\n",
       "      <td>1</td>\n",
       "      <td>1</td>\n",
       "      <td>1</td>\n",
       "      <td>1</td>\n",
       "      <td>1360</td>\n",
       "      <td>0</td>\n",
       "      <td>嗚嗚嗚</td>\n",
       "    </tr>\n",
       "    <tr>\n",
       "      <th>2</th>\n",
       "      <td>3</td>\n",
       "      <td>1</td>\n",
       "      <td>1</td>\n",
       "      <td>1</td>\n",
       "      <td>2</td>\n",
       "      <td>1710</td>\n",
       "      <td>0</td>\n",
       "      <td>fff</td>\n",
       "    </tr>\n",
       "  </tbody>\n",
       "</table>\n",
       "</div>"
      ],
      "text/plain": [
       "  姓名 提拉米蘇 檸檬塔 oreo生乳酪 生巧克力  訂單總價 取貨方式   地點\n",
       "0  1    1   1       1    1  1360    0  嗚嗚嗚\n",
       "2  3    1   1       1    2  1710    0  fff"
      ]
     },
     "execution_count": 5,
     "metadata": {},
     "output_type": "execute_result"
    }
   ],
   "source": [
    "df[df[\"取貨方式\"]==\"0\"]"
   ]
  },
  {
   "cell_type": "code",
   "execution_count": 12,
   "metadata": {},
   "outputs": [
    {
     "name": "stdout",
     "output_type": "stream",
     "text": [
      "本週提拉米蘇總數 4\n",
      "本週檸檬塔總數 4\n",
      "本週oreo生乳酪蛋糕總數 4\n",
      "本週生巧克力總數 5\n"
     ]
    }
   ],
   "source": [
    "print(\"本週提拉米蘇總數\",df[\"提拉米蘇\"].sum(0))\n",
    "print(\"本週檸檬塔總數\",df[\"檸檬塔\"].sum(0))\n",
    "print(\"本週oreo生乳酪蛋糕總數\",df[\"oreo生乳酪\"].sum(0))\n",
    "print(\"本週生巧克力總數\",df[\"生巧克力\"].sum(0))\n"
   ]
  },
  {
   "cell_type": "code",
   "execution_count": null,
   "metadata": {},
   "outputs": [],
   "source": []
  }
 ],
 "metadata": {
  "kernelspec": {
   "display_name": "Python 3",
   "language": "python",
   "name": "python3"
  },
  "language_info": {
   "codemirror_mode": {
    "name": "ipython",
    "version": 3
   },
   "file_extension": ".py",
   "mimetype": "text/x-python",
   "name": "python",
   "nbconvert_exporter": "python",
   "pygments_lexer": "ipython3",
   "version": "3.7.6"
  }
 },
 "nbformat": 4,
 "nbformat_minor": 4
}
