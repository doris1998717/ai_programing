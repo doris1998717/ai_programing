{
 "cells": [
  {
   "cell_type": "markdown",
   "metadata": {},
   "source": [
    "# HomeBake的小幫手(1)_105405132 宋靜 廣告四\n",
    "\n",
    "HomeBake是我最近在經營的甜點材料盒品牌!<br>但因為才剛開始，很多程序都還沒系統化<br>想利用上學期學到(現在快忘光)的pandas<br>一邊複習、一邊幫HomeBake製作便利的系統"
   ]
  },
  {
   "cell_type": "markdown",
   "metadata": {},
   "source": [
    "# 1.簡單的基本資料輸入\n",
    "若已完成訂單輸入，可輸入Q結束。"
   ]
  },
  {
   "cell_type": "code",
   "execution_count": 2,
   "metadata": {},
   "outputs": [],
   "source": [
    "%matplotlib inline \n",
    "import numpy as np \n",
    "import matplotlib.pyplot as plt\n",
    "import pandas as pd"
   ]
  },
  {
   "cell_type": "code",
   "execution_count": 6,
   "metadata": {},
   "outputs": [
    {
     "name": "stdout",
     "output_type": "stream",
     "text": [
      "怎麼稱呼您?靜\n",
      "您訂購的提拉米蘇數量為:1\n",
      "您訂購的檸檬塔數量為:0\n",
      "您訂購的oreo生乳酪蛋糕數量為:1\n",
      "您訂購的生巧克力數量為:1\n",
      "謝謝您的訂購! 您的訂單總金額為：1150\n"
     ]
    }
   ],
   "source": [
    "name = input(\"怎麼稱呼您?\")\n",
    "tira = int(input(\"您訂購的提拉米蘇數量為:\"))\n",
    "lemon = int(input(\"您訂購的檸檬塔數量為:\"))\n",
    "oreo = int(input(\"您訂購的oreo生乳酪蛋糕數量為:\"))\n",
    "choco = int(input(\"您訂購的生巧克力數量為:\"))\n",
    "price = str(tira*440 + lemon*210 + oreo*360 +choco*350)\n",
    "\n",
    "print(\"謝謝您的訂購! 您的訂單總金額為：\"+price)"
   ]
  },
  {
   "cell_type": "code",
   "execution_count": null,
   "metadata": {},
   "outputs": [],
   "source": []
  }
 ],
 "metadata": {
  "kernelspec": {
   "display_name": "Python 3",
   "language": "python",
   "name": "python3"
  },
  "language_info": {
   "codemirror_mode": {
    "name": "ipython",
    "version": 3
   },
   "file_extension": ".py",
   "mimetype": "text/x-python",
   "name": "python",
   "nbconvert_exporter": "python",
   "pygments_lexer": "ipython3",
   "version": "3.7.6"
  }
 },
 "nbformat": 4,
 "nbformat_minor": 4
}
