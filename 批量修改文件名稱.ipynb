{
 "cells": [
  {
   "cell_type": "markdown",
   "metadata": {},
   "source": [
    "# 105405132 廣告四 宋靜"
   ]
  },
  {
   "cell_type": "code",
   "execution_count": 1,
   "metadata": {},
   "outputs": [],
   "source": [
    "%matplotlib inline \n",
    "import numpy as np \n",
    "import matplotlib.pyplot as plt\n",
    "import pandas as pd"
   ]
  },
  {
   "cell_type": "code",
   "execution_count": 2,
   "metadata": {},
   "outputs": [],
   "source": [
    "import os"
   ]
  },
  {
   "cell_type": "code",
   "execution_count": 3,
   "metadata": {},
   "outputs": [
    {
     "name": "stdout",
     "output_type": "stream",
     "text": [
      "請輸入文件路徑(結尾加上/):C:\\Users\\88693\\OneDrive\\桌面\\海浪系列/\n"
     ]
    }
   ],
   "source": [
    "path = input(\"請輸入文件路徑(結尾加上/):\")\n",
    "filelist = os.listdir(path)"
   ]
  },
  {
   "cell_type": "code",
   "execution_count": 4,
   "metadata": {},
   "outputs": [
    {
     "name": "stdout",
     "output_type": "stream",
     "text": [
      "C:\\Users\\88693\\OneDrive\\桌面\\海浪系列/\\1.JPG >>>>> C:\\Users\\88693\\OneDrive\\桌面\\海浪系列/\\1.JPG\n",
      "C:\\Users\\88693\\OneDrive\\桌面\\海浪系列/\\result_1.png >>>>> C:\\Users\\88693\\OneDrive\\桌面\\海浪系列/\\2.JPG\n",
      "C:\\Users\\88693\\OneDrive\\桌面\\海浪系列/\\result_2.png >>>>> C:\\Users\\88693\\OneDrive\\桌面\\海浪系列/\\3.JPG\n",
      "C:\\Users\\88693\\OneDrive\\桌面\\海浪系列/\\result_3.png >>>>> C:\\Users\\88693\\OneDrive\\桌面\\海浪系列/\\4.JPG\n",
      "C:\\Users\\88693\\OneDrive\\桌面\\海浪系列/\\result_4.png >>>>> C:\\Users\\88693\\OneDrive\\桌面\\海浪系列/\\5.JPG\n",
      "C:\\Users\\88693\\OneDrive\\桌面\\海浪系列/\\result_5.png >>>>> C:\\Users\\88693\\OneDrive\\桌面\\海浪系列/\\6.JPG\n",
      "C:\\Users\\88693\\OneDrive\\桌面\\海浪系列/\\原始圖片.png >>>>> C:\\Users\\88693\\OneDrive\\桌面\\海浪系列/\\7.JPG\n"
     ]
    }
   ],
   "source": [
    "n = 0\n",
    "for i in filelist:\n",
    "    oldname = path + os.sep + filelist[n]\n",
    "    newname = path + os.sep + str(n+1) + \".JPG\"\n",
    "    os.rename(oldname,newname)\n",
    "    print(oldname,\">>>>>\",newname)\n",
    "    n+=1"
   ]
  },
  {
   "cell_type": "code",
   "execution_count": 5,
   "metadata": {},
   "outputs": [
    {
     "ename": "FileNotFoundError",
     "evalue": "[WinError 2] 系統找不到指定的檔案。: 'C:\\\\Users\\\\88693\\\\OneDrive\\\\桌面\\\\海浪系列/\\\\原始圖片.png' -> 'C:\\\\Users\\\\88693\\\\OneDrive\\\\桌面\\\\海浪系列/\\\\7.JPG'",
     "output_type": "error",
     "traceback": [
      "\u001b[1;31m---------------------------------------------------------------------------\u001b[0m",
      "\u001b[1;31mFileNotFoundError\u001b[0m                         Traceback (most recent call last)",
      "\u001b[1;32m<ipython-input-5-b466a4f55c21>\u001b[0m in \u001b[0;36m<module>\u001b[1;34m\u001b[0m\n\u001b[1;32m----> 1\u001b[1;33m \u001b[0mos\u001b[0m\u001b[1;33m.\u001b[0m\u001b[0mrename\u001b[0m\u001b[1;33m(\u001b[0m\u001b[0moldname\u001b[0m\u001b[1;33m,\u001b[0m\u001b[0mnewname\u001b[0m\u001b[1;33m)\u001b[0m\u001b[1;33m\u001b[0m\u001b[1;33m\u001b[0m\u001b[0m\n\u001b[0m",
      "\u001b[1;31mFileNotFoundError\u001b[0m: [WinError 2] 系統找不到指定的檔案。: 'C:\\\\Users\\\\88693\\\\OneDrive\\\\桌面\\\\海浪系列/\\\\原始圖片.png' -> 'C:\\\\Users\\\\88693\\\\OneDrive\\\\桌面\\\\海浪系列/\\\\7.JPG'"
     ]
    }
   ],
   "source": []
  },
  {
   "cell_type": "code",
   "execution_count": null,
   "metadata": {},
   "outputs": [],
   "source": []
  }
 ],
 "metadata": {
  "kernelspec": {
   "display_name": "Python 3",
   "language": "python",
   "name": "python3"
  },
  "language_info": {
   "codemirror_mode": {
    "name": "ipython",
    "version": 3
   },
   "file_extension": ".py",
   "mimetype": "text/x-python",
   "name": "python",
   "nbconvert_exporter": "python",
   "pygments_lexer": "ipython3",
   "version": "3.7.6"
  }
 },
 "nbformat": 4,
 "nbformat_minor": 4
}
