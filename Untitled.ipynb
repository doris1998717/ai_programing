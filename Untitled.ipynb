{
 "cells": [
  {
   "cell_type": "markdown",
   "metadata": {},
   "source": [
    "# IMDb情意分析 105405132 廣告四 宋靜"
   ]
  },
  {
   "cell_type": "code",
   "execution_count": 1,
   "metadata": {},
   "outputs": [],
   "source": [
    "%matplotlib inline\n",
    "import numpy as np\n",
    "import matplotlib.pyplot as plt\n",
    "import pandas as py\n",
    "\n",
    "from  tensorflow.keras.preprocessing import sequence\n",
    "from  tensorflow.keras.models import Sequential\n",
    "from  tensorflow.keras.layers import Dense,Embedding, Dropout, Activation\n",
    "from  tensorflow.keras.layers import LSTM,GRU\n",
    "from  tensorflow.keras.layers import Conv1D, MaxPooling1D\n",
    "from  tensorflow.keras.datasets import imdb"
   ]
  },
  {
   "cell_type": "code",
   "execution_count": 2,
   "metadata": {},
   "outputs": [],
   "source": [
    "(x_train,y_train) ,(x_test,y_test) = imdb.load_data(num_words = 10000)"
   ]
  },
  {
   "cell_type": "markdown",
   "metadata": {},
   "source": [
    "## 1.頻率出現最高的字"
   ]
  },
  {
   "cell_type": "code",
   "execution_count": 3,
   "metadata": {},
   "outputs": [],
   "source": [
    "h_words = 450\n",
    "x_train = sequence.pad_sequences(x_train,maxlen = h_words)\n",
    "x_test  = sequence.pad_sequences(x_test,maxlen=h_words)"
   ]
  },
  {
   "cell_type": "markdown",
   "metadata": {},
   "source": [
    "model = Sequential()\n",
    "model.add(Embedding(10000,128))\n",
    "model.add(GRU(256, dropout=0.4, recurrent_dropout=0.25))\n",
    "model.add(Dense(500, activation='relu'))\n",
    "model.add(Dense(1, activation='sigmoid'))\n",
    "model.compile(loss='binary_crossentropy', optimizer='adam', metrics=['accuracy'])\n",
    "model.summary()"
   ]
  },
  {
   "cell_type": "markdown",
   "metadata": {},
   "source": [
    "## 2.學習機"
   ]
  },
  {
   "cell_type": "code",
   "execution_count": 4,
   "metadata": {},
   "outputs": [
    {
     "name": "stdout",
     "output_type": "stream",
     "text": [
      "Model: \"sequential\"\n",
      "_________________________________________________________________\n",
      "Layer (type)                 Output Shape              Param #   \n",
      "=================================================================\n",
      "embedding (Embedding)        (None, None, 64)          640000    \n",
      "_________________________________________________________________\n",
      "lstm (LSTM)                  (None, 128)               98816     \n",
      "_________________________________________________________________\n",
      "dense (Dense)                (None, 1)                 129       \n",
      "=================================================================\n",
      "Total params: 738,945\n",
      "Trainable params: 738,945\n",
      "Non-trainable params: 0\n",
      "_________________________________________________________________\n"
     ]
    }
   ],
   "source": [
    "model = Sequential()\n",
    "model.add(Embedding(10000, 64))\n",
    "model.add(LSTM(128, dropout=0.211, recurrent_dropout=0.211))##change the dropout rate to 0.211\n",
    "model.add(Dense(1, activation='sigmoid'))\n",
    "\n",
    "model.compile(optimizer='rmsprop',\n",
    "              loss='binary_crossentropy',\n",
    "              metrics=['acc'])\n",
    "model.summary()"
   ]
  },
  {
   "cell_type": "markdown",
   "metadata": {},
   "source": [
    "## 3.訓練gogogo\n",
    "### (修改batch_size為128)\n",
    "### (修改batch = 5)"
   ]
  },
  {
   "cell_type": "code",
   "execution_count": 5,
   "metadata": {},
   "outputs": [
    {
     "name": "stdout",
     "output_type": "stream",
     "text": [
      "Train on 20000 samples, validate on 5000 samples\n",
      "Epoch 1/5\n",
      "20000/20000 [==============================] - 621s 31ms/sample - loss: 0.5237 - acc: 0.7456 - val_loss: 0.4218 - val_acc: 0.8060\n",
      "Epoch 2/5\n",
      "20000/20000 [==============================] - 595s 30ms/sample - loss: 0.3592 - acc: 0.8529 - val_loss: 0.4463 - val_acc: 0.7960\n",
      "Epoch 3/5\n",
      "20000/20000 [==============================] - 602s 30ms/sample - loss: 0.3120 - acc: 0.8797 - val_loss: 0.3542 - val_acc: 0.8520\n",
      "Epoch 4/5\n",
      "20000/20000 [==============================] - 579s 29ms/sample - loss: 0.2840 - acc: 0.8898 - val_loss: 0.3348 - val_acc: 0.8668\n",
      "Epoch 5/5\n",
      "20000/20000 [==============================] - 576s 29ms/sample - loss: 0.2512 - acc: 0.9044 - val_loss: 0.3436 - val_acc: 0.8740\n"
     ]
    },
    {
     "data": {
      "text/plain": [
       "<tensorflow.python.keras.callbacks.History at 0x1989b815608>"
      ]
     },
     "execution_count": 5,
     "metadata": {},
     "output_type": "execute_result"
    }
   ],
   "source": [
    "model.fit(x_train, y_train,epochs=5,batch_size=128,validation_split=0.2)"
   ]
  },
  {
   "cell_type": "code",
   "execution_count": 10,
   "metadata": {},
   "outputs": [
    {
     "name": "stdout",
     "output_type": "stream",
     "text": [
      "25000/25000 [==============================] - 281s 11ms/sample - loss: 0.3768 - acc: 0.8600\n",
      "loss:  0.3768\n",
      "accuracy:  86.00%\n"
     ]
    }
   ],
   "source": [
    "loss, score = model.evaluate(x_test, y_test)\n",
    "print(f\"loss: {loss: .4f}\\naccuracy: {score * 100: .2f}%\")"
   ]
  },
  {
   "cell_type": "code",
   "execution_count": 11,
   "metadata": {},
   "outputs": [],
   "source": [
    "predict = model.predict_classes(x_test)"
   ]
  },
  {
   "cell_type": "code",
   "execution_count": 8,
   "metadata": {},
   "outputs": [],
   "source": [
    "def pre(n):\n",
    "  print('預測：',predict[n],'\\n','實際：',y_test[n])"
   ]
  },
  {
   "cell_type": "code",
   "execution_count": 9,
   "metadata": {},
   "outputs": [
    {
     "name": "stdout",
     "output_type": "stream",
     "text": [
      "預測： [1] \n",
      " 實際： 1\n"
     ]
    }
   ],
   "source": [
    "pre(140)"
   ]
  },
  {
   "cell_type": "code",
   "execution_count": null,
   "metadata": {},
   "outputs": [],
   "source": []
  }
 ],
 "metadata": {
  "kernelspec": {
   "display_name": "Python 3",
   "language": "python",
   "name": "python3"
  },
  "language_info": {
   "codemirror_mode": {
    "name": "ipython",
    "version": 3
   },
   "file_extension": ".py",
   "mimetype": "text/x-python",
   "name": "python",
   "nbconvert_exporter": "python",
   "pygments_lexer": "ipython3",
   "version": "3.7.4"
  }
 },
 "nbformat": 4,
 "nbformat_minor": 2
}
