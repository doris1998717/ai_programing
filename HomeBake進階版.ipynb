{
 "cells": [
  {
   "cell_type": "code",
   "execution_count": 1,
   "metadata": {},
   "outputs": [],
   "source": [
    "%matplotlib inline \n",
    "import numpy as np \n",
    "import matplotlib.pyplot as plt\n",
    "import pandas as pd"
   ]
  },
  {
   "cell_type": "code",
   "execution_count": 3,
   "metadata": {},
   "outputs": [
    {
     "name": "stdout",
     "output_type": "stream",
     "text": [
      "怎麼稱呼您?2\n",
      "您訂購的提拉米蘇數量為:2\n",
      "您訂購的檸檬塔數量為:2\n",
      "您訂購的oreo生乳酪蛋糕數量為:2\n",
      "您訂購的生巧克力數量為:2\n",
      "謝謝您的訂購! 您的訂單總金額為：2720\n"
     ]
    }
   ],
   "source": [
    "name = input(\"怎麼稱呼您?\")\n",
    "tira = int(input(\"您訂購的提拉米蘇數量為:\"))\n",
    "lemon = int(input(\"您訂購的檸檬塔數量為:\"))\n",
    "oreo = int(input(\"您訂購的oreo生乳酪蛋糕數量為:\"))\n",
    "choco = int(input(\"您訂購的生巧克力數量為:\"))\n",
    "price = tira*440 + lemon*210 + oreo*360 +choco*350\n",
    "\n",
    "print(\"謝謝您的訂購! 您的訂單總金額為：\" + str(price))\n"
   ]
  },
  {
   "cell_type": "code",
   "execution_count": 11,
   "metadata": {},
   "outputs": [
    {
     "data": {
      "text/html": [
       "<div>\n",
       "<style scoped>\n",
       "    .dataframe tbody tr th:only-of-type {\n",
       "        vertical-align: middle;\n",
       "    }\n",
       "\n",
       "    .dataframe tbody tr th {\n",
       "        vertical-align: top;\n",
       "    }\n",
       "\n",
       "    .dataframe thead th {\n",
       "        text-align: right;\n",
       "    }\n",
       "</style>\n",
       "<table border=\"1\" class=\"dataframe\">\n",
       "  <thead>\n",
       "    <tr style=\"text-align: right;\">\n",
       "      <th></th>\n",
       "      <th>姓名</th>\n",
       "      <th>提拉米蘇</th>\n",
       "      <th>檸檬塔</th>\n",
       "      <th>oreo生乳酪</th>\n",
       "      <th>生巧克力</th>\n",
       "      <th>訂單總價</th>\n",
       "    </tr>\n",
       "  </thead>\n",
       "  <tbody>\n",
       "    <tr>\n",
       "      <th>0</th>\n",
       "      <td>2</td>\n",
       "      <td>2</td>\n",
       "      <td>2</td>\n",
       "      <td>2</td>\n",
       "      <td>2</td>\n",
       "      <td>2720</td>\n",
       "    </tr>\n",
       "  </tbody>\n",
       "</table>\n",
       "</div>"
      ],
      "text/plain": [
       "  姓名 提拉米蘇 檸檬塔 oreo生乳酪 生巧克力  訂單總價\n",
       "0  2    2   2       2    2  2720"
      ]
     },
     "execution_count": 11,
     "metadata": {},
     "output_type": "execute_result"
    }
   ],
   "source": [
    "data = {\"姓名\": name, \"提拉米蘇\": tira, \"檸檬塔\": lemon, \"oreo生乳酪\": oreo, \"生巧克力\": choco, \"訂單總價\": price}\n",
    "data = pd.Series(data)\n",
    "\n",
    "df = pd.DataFrame(columns = [\"姓名\",\"提拉米蘇\",\"檸檬塔\",\"oreo生乳酪\",\"生巧克力\",\"訂單總價\"])\n",
    "df = df.append(data,ignore_index=True)\n",
    "df"
   ]
  },
  {
   "cell_type": "code",
   "execution_count": null,
   "metadata": {},
   "outputs": [],
   "source": [
    "配送方式\n",
    "0/面交/地點\n",
    "1/宅配/地址\n"
   ]
  }
 ],
 "metadata": {
  "kernelspec": {
   "display_name": "Python 3",
   "language": "python",
   "name": "python3"
  },
  "language_info": {
   "codemirror_mode": {
    "name": "ipython",
    "version": 3
   },
   "file_extension": ".py",
   "mimetype": "text/x-python",
   "name": "python",
   "nbconvert_exporter": "python",
   "pygments_lexer": "ipython3",
   "version": "3.7.6"
  }
 },
 "nbformat": 4,
 "nbformat_minor": 4
}
